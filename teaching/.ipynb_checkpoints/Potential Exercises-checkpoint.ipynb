{
 "cells": [
  {
   "cell_type": "raw",
   "metadata": {},
   "source": [
    "Write a function to find the maxmimum of an array"
   ]
  },
  {
   "cell_type": "code",
   "execution_count": 1,
   "metadata": {},
   "outputs": [
    {
     "name": "stdout",
     "output_type": "stream",
     "text": [
      "0.9979128044316883\n",
      "[0.65648044 0.35088391 0.4019494  0.54053622 0.35340483 0.72000178\n",
      " 0.9979128  0.50655164 0.53293733 0.27869105 0.74581805 0.47581373\n",
      " 0.30248964 0.32873024 0.52166601 0.04308171 0.06775418 0.22073048\n",
      " 0.31918438 0.07594113]\n"
     ]
    }
   ],
   "source": [
    "import numpy as np\n",
    "\n",
    "x=np.random.rand(20)\n",
    "\n",
    "def find_max(xarr):\n",
    "    xmax=xarr[0]\n",
    "    for ii in xarr:\n",
    "        if ii > xmax:\n",
    "            xmax=ii\n",
    "    return xmax\n",
    "\n",
    "print(find_max(x))\n",
    "print(x)"
   ]
  },
  {
   "cell_type": "markdown",
   "metadata": {},
   "source": [
    "Create a routine to calculate the roots of an equation using Newton-Raphson Method (bear in mind this method can only calculate real roots).\n",
    "\n",
    "Can probably generalise this to any function"
   ]
  },
  {
   "cell_type": "code",
   "execution_count": 6,
   "metadata": {},
   "outputs": [
    {
     "data": {
      "text/plain": [
       "-3.0000000000000013"
      ]
     },
     "execution_count": 6,
     "metadata": {},
     "output_type": "execute_result"
    }
   ],
   "source": [
    "import scipy.misc as spm\n",
    "\n",
    "def f(x,coef):\n",
    "    return coef[0]*x**2+coef[1]*x+coef[2]\n",
    "\n",
    "def find_roots(coef,ig1,func):\n",
    "    \n",
    "    tol=1e-4\n",
    "    max_iter=10\n",
    "    diff=1\n",
    "    x=ig1\n",
    "    for _ in range(max_iter):\n",
    "        x1=x-func(x,coef)/spm.derivative(func,x,dx=1e-4,args=(coef,))\n",
    "        diff=np.abs(x1-x)\n",
    "        x=x1\n",
    "        if diff < tol:\n",
    "            break\n",
    "    else:\n",
    "        x=float('NaN')\n",
    "        print(\"Itheration limit reached, no converging solution found\")\n",
    "        \n",
    "    return x\n",
    "\n",
    "find_roots([1,4,3],-4,f)"
   ]
  },
  {
   "cell_type": "code",
   "execution_count": null,
   "metadata": {},
   "outputs": [],
   "source": []
  }
 ],
 "metadata": {
  "anaconda-cloud": {},
  "kernelspec": {
   "display_name": "Python [conda env:anaconda]",
   "language": "python",
   "name": "conda-env-anaconda-py"
  },
  "language_info": {
   "codemirror_mode": {
    "name": "ipython",
    "version": 3
   },
   "file_extension": ".py",
   "mimetype": "text/x-python",
   "name": "python",
   "nbconvert_exporter": "python",
   "pygments_lexer": "ipython3",
   "version": "3.5.4"
  }
 },
 "nbformat": 4,
 "nbformat_minor": 2
}
