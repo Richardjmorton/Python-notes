{
 "cells": [
  {
   "cell_type": "code",
   "execution_count": 14,
   "metadata": {
    "ExecuteTime": {
     "end_time": "2019-11-11T11:22:59.421839Z",
     "start_time": "2019-11-11T11:22:59.418733Z"
    }
   },
   "outputs": [],
   "source": [
    "import pandas as pd\n",
    "import matplotlib.pyplot as plt"
   ]
  },
  {
   "cell_type": "code",
   "execution_count": 35,
   "metadata": {
    "ExecuteTime": {
     "end_time": "2019-11-11T11:50:19.477469Z",
     "start_time": "2019-11-11T11:50:19.472338Z"
    }
   },
   "outputs": [],
   "source": [
    "df=pd.read_csv('/Users/richardmorton/Desktop/teaching/astro_IDL/model_atmos_c7.txt',sep=\",\",skiprows=1,dtype='float')"
   ]
  },
  {
   "cell_type": "code",
   "execution_count": 36,
   "metadata": {
    "ExecuteTime": {
     "end_time": "2019-11-11T11:50:20.063456Z",
     "start_time": "2019-11-11T11:50:20.045814Z"
    }
   },
   "outputs": [
    {
     "data": {
      "text/html": [
       "<div>\n",
       "<style scoped>\n",
       "    .dataframe tbody tr th:only-of-type {\n",
       "        vertical-align: middle;\n",
       "    }\n",
       "\n",
       "    .dataframe tbody tr th {\n",
       "        vertical-align: top;\n",
       "    }\n",
       "\n",
       "    .dataframe thead th {\n",
       "        text-align: right;\n",
       "    }\n",
       "</style>\n",
       "<table border=\"1\" class=\"dataframe\">\n",
       "  <thead>\n",
       "    <tr style=\"text-align: right;\">\n",
       "      <th></th>\n",
       "      <th>Unnamed: 0</th>\n",
       "      <th>h (km)</th>\n",
       "      <th>m (g cm-2)</th>\n",
       "      <th>T (K)</th>\n",
       "      <th>V (km s-1)</th>\n",
       "      <th>p_{\\mathrm{g}} (dyn cm-2)</th>\n",
       "      <th>p_{\\mathrm{tot}} (dyn cm-2)</th>\n",
       "      <th>n_{\\mathrm{H}} (cm-3)</th>\n",
       "      <th>n_{\\mathrm{H} 1} (cm-3)</th>\n",
       "      <th>n_{\\mathrm{e}\\} (cm-3)</th>\n",
       "    </tr>\n",
       "  </thead>\n",
       "  <tbody>\n",
       "    <tr>\n",
       "      <th>0</th>\n",
       "      <td>1.0</td>\n",
       "      <td>68084.4</td>\n",
       "      <td>0.000001</td>\n",
       "      <td>1586000.0</td>\n",
       "      <td>34.0</td>\n",
       "      <td>0.03142</td>\n",
       "      <td>0.03227</td>\n",
       "      <td>62330000.0</td>\n",
       "      <td>8.86</td>\n",
       "      <td>74910000.0</td>\n",
       "    </tr>\n",
       "    <tr>\n",
       "      <th>1</th>\n",
       "      <td>2.0</td>\n",
       "      <td>47009.3</td>\n",
       "      <td>0.000002</td>\n",
       "      <td>1410000.0</td>\n",
       "      <td>34.0</td>\n",
       "      <td>0.04131</td>\n",
       "      <td>0.04256</td>\n",
       "      <td>92170000.0</td>\n",
       "      <td>15.22</td>\n",
       "      <td>110800000.0</td>\n",
       "    </tr>\n",
       "    <tr>\n",
       "      <th>2</th>\n",
       "      <td>3.0</td>\n",
       "      <td>36079.5</td>\n",
       "      <td>0.000002</td>\n",
       "      <td>1294000.0</td>\n",
       "      <td>34.0</td>\n",
       "      <td>0.04827</td>\n",
       "      <td>0.04986</td>\n",
       "      <td>117400000.0</td>\n",
       "      <td>21.64</td>\n",
       "      <td>141100000.0</td>\n",
       "    </tr>\n",
       "    <tr>\n",
       "      <th>3</th>\n",
       "      <td>4.0</td>\n",
       "      <td>26676.6</td>\n",
       "      <td>0.000002</td>\n",
       "      <td>1170000.0</td>\n",
       "      <td>34.0</td>\n",
       "      <td>0.05583</td>\n",
       "      <td>0.05787</td>\n",
       "      <td>150200000.0</td>\n",
       "      <td>31.52</td>\n",
       "      <td>180500000.0</td>\n",
       "    </tr>\n",
       "    <tr>\n",
       "      <th>4</th>\n",
       "      <td>5.0</td>\n",
       "      <td>21133.1</td>\n",
       "      <td>0.000002</td>\n",
       "      <td>1080000.0</td>\n",
       "      <td>34.0</td>\n",
       "      <td>0.06127</td>\n",
       "      <td>0.06369</td>\n",
       "      <td>178600000.0</td>\n",
       "      <td>41.63</td>\n",
       "      <td>214700000.0</td>\n",
       "    </tr>\n",
       "  </tbody>\n",
       "</table>\n",
       "</div>"
      ],
      "text/plain": [
       "   Unnamed: 0   h (km)   m (g cm-2)      T (K)   V (km s-1)  \\\n",
       "0         1.0  68084.4     0.000001  1586000.0         34.0   \n",
       "1         2.0  47009.3     0.000002  1410000.0         34.0   \n",
       "2         3.0  36079.5     0.000002  1294000.0         34.0   \n",
       "3         4.0  26676.6     0.000002  1170000.0         34.0   \n",
       "4         5.0  21133.1     0.000002  1080000.0         34.0   \n",
       "\n",
       "    p_{\\mathrm{g}} (dyn cm-2)   p_{\\mathrm{tot}} (dyn cm-2)  \\\n",
       "0                     0.03142                       0.03227   \n",
       "1                     0.04131                       0.04256   \n",
       "2                     0.04827                       0.04986   \n",
       "3                     0.05583                       0.05787   \n",
       "4                     0.06127                       0.06369   \n",
       "\n",
       "    n_{\\mathrm{H}} (cm-3)   n_{\\mathrm{H} 1} (cm-3)   n_{\\mathrm{e}\\} (cm-3)  \n",
       "0              62330000.0                      8.86               74910000.0  \n",
       "1              92170000.0                     15.22              110800000.0  \n",
       "2             117400000.0                     21.64              141100000.0  \n",
       "3             150200000.0                     31.52              180500000.0  \n",
       "4             178600000.0                     41.63              214700000.0  "
      ]
     },
     "execution_count": 36,
     "metadata": {},
     "output_type": "execute_result"
    }
   ],
   "source": [
    "df.head()"
   ]
  },
  {
   "cell_type": "code",
   "execution_count": 39,
   "metadata": {
    "ExecuteTime": {
     "end_time": "2019-11-11T11:51:18.372889Z",
     "start_time": "2019-11-11T11:51:18.355375Z"
    }
   },
   "outputs": [
    {
     "data": {
      "text/html": [
       "<div>\n",
       "<style scoped>\n",
       "    .dataframe tbody tr th:only-of-type {\n",
       "        vertical-align: middle;\n",
       "    }\n",
       "\n",
       "    .dataframe tbody tr th {\n",
       "        vertical-align: top;\n",
       "    }\n",
       "\n",
       "    .dataframe thead th {\n",
       "        text-align: right;\n",
       "    }\n",
       "</style>\n",
       "<table border=\"1\" class=\"dataframe\">\n",
       "  <thead>\n",
       "    <tr style=\"text-align: right;\">\n",
       "      <th></th>\n",
       "      <th>index</th>\n",
       "      <th>h</th>\n",
       "      <th>m</th>\n",
       "      <th>T</th>\n",
       "      <th>V</th>\n",
       "      <th>P_g</th>\n",
       "      <th>P_tot</th>\n",
       "      <th>n_H</th>\n",
       "      <th>n_H1</th>\n",
       "      <th>n_e</th>\n",
       "    </tr>\n",
       "  </thead>\n",
       "  <tbody>\n",
       "    <tr>\n",
       "      <th>0</th>\n",
       "      <td>1.0</td>\n",
       "      <td>68084.4</td>\n",
       "      <td>0.000001</td>\n",
       "      <td>1586000.0</td>\n",
       "      <td>34.0</td>\n",
       "      <td>0.03142</td>\n",
       "      <td>0.03227</td>\n",
       "      <td>62330000.0</td>\n",
       "      <td>8.86</td>\n",
       "      <td>74910000.0</td>\n",
       "    </tr>\n",
       "    <tr>\n",
       "      <th>1</th>\n",
       "      <td>2.0</td>\n",
       "      <td>47009.3</td>\n",
       "      <td>0.000002</td>\n",
       "      <td>1410000.0</td>\n",
       "      <td>34.0</td>\n",
       "      <td>0.04131</td>\n",
       "      <td>0.04256</td>\n",
       "      <td>92170000.0</td>\n",
       "      <td>15.22</td>\n",
       "      <td>110800000.0</td>\n",
       "    </tr>\n",
       "    <tr>\n",
       "      <th>2</th>\n",
       "      <td>3.0</td>\n",
       "      <td>36079.5</td>\n",
       "      <td>0.000002</td>\n",
       "      <td>1294000.0</td>\n",
       "      <td>34.0</td>\n",
       "      <td>0.04827</td>\n",
       "      <td>0.04986</td>\n",
       "      <td>117400000.0</td>\n",
       "      <td>21.64</td>\n",
       "      <td>141100000.0</td>\n",
       "    </tr>\n",
       "    <tr>\n",
       "      <th>3</th>\n",
       "      <td>4.0</td>\n",
       "      <td>26676.6</td>\n",
       "      <td>0.000002</td>\n",
       "      <td>1170000.0</td>\n",
       "      <td>34.0</td>\n",
       "      <td>0.05583</td>\n",
       "      <td>0.05787</td>\n",
       "      <td>150200000.0</td>\n",
       "      <td>31.52</td>\n",
       "      <td>180500000.0</td>\n",
       "    </tr>\n",
       "    <tr>\n",
       "      <th>4</th>\n",
       "      <td>5.0</td>\n",
       "      <td>21133.1</td>\n",
       "      <td>0.000002</td>\n",
       "      <td>1080000.0</td>\n",
       "      <td>34.0</td>\n",
       "      <td>0.06127</td>\n",
       "      <td>0.06369</td>\n",
       "      <td>178600000.0</td>\n",
       "      <td>41.63</td>\n",
       "      <td>214700000.0</td>\n",
       "    </tr>\n",
       "  </tbody>\n",
       "</table>\n",
       "</div>"
      ],
      "text/plain": [
       "   index        h         m          T     V      P_g    P_tot          n_H  \\\n",
       "0    1.0  68084.4  0.000001  1586000.0  34.0  0.03142  0.03227   62330000.0   \n",
       "1    2.0  47009.3  0.000002  1410000.0  34.0  0.04131  0.04256   92170000.0   \n",
       "2    3.0  36079.5  0.000002  1294000.0  34.0  0.04827  0.04986  117400000.0   \n",
       "3    4.0  26676.6  0.000002  1170000.0  34.0  0.05583  0.05787  150200000.0   \n",
       "4    5.0  21133.1  0.000002  1080000.0  34.0  0.06127  0.06369  178600000.0   \n",
       "\n",
       "    n_H1          n_e  \n",
       "0   8.86   74910000.0  \n",
       "1  15.22  110800000.0  \n",
       "2  21.64  141100000.0  \n",
       "3  31.52  180500000.0  \n",
       "4  41.63  214700000.0  "
      ]
     },
     "execution_count": 39,
     "metadata": {},
     "output_type": "execute_result"
    }
   ],
   "source": [
    "df.columns=['index','h','m','T','V','P_g','P_tot','n_H','n_H1','n_e']\n",
    "df.head()"
   ]
  },
  {
   "cell_type": "code",
   "execution_count": 47,
   "metadata": {
    "ExecuteTime": {
     "end_time": "2019-11-11T11:57:38.396533Z",
     "start_time": "2019-11-11T11:57:38.052845Z"
    }
   },
   "outputs": [
    {
     "data": {
      "image/png": "[encoded data removed]",
      "text/plain": [
       "<matplotlib.figure.Figure at 0x1269fbc88>"
      ]
     },
     "metadata": {},
     "output_type": "display_data"
    }
   ],
   "source": [
    "def ion_frac(ni,ne):\n",
    "    return ni/(ni+ne)\n",
    "\n",
    "height=df['h']\n",
    "nH=df['n_H']\n",
    "ne=df['n_e']\n",
    "\n",
    "index=df['h']<2500\n",
    "plt.plot(height[index],1-ion_frac(nH[index],ne[index]))\n",
    "plt.yscale('log')"
   ]
  },
  {
   "cell_type": "code",
   "execution_count": 42,
   "metadata": {
    "ExecuteTime": {
     "end_time": "2019-11-11T11:52:21.168343Z",
     "start_time": "2019-11-11T11:52:21.157556Z"
    }
   },
   "outputs": [
    {
     "data": {
      "text/plain": [
       "0      7.491000e+07\n",
       "1      1.108000e+08\n",
       "2      1.411000e+08\n",
       "3      1.805000e+08\n",
       "4      2.147000e+08\n",
       "5      2.669000e+08\n",
       "6      3.206000e+08\n",
       "7      3.768000e+08\n",
       "8      4.274000e+08\n",
       "9      5.021000e+08\n",
       "10     5.578000e+08\n",
       "11     6.242000e+08\n",
       "12     7.022000e+08\n",
       "13     7.695000e+08\n",
       "14     8.529000e+08\n",
       "15     9.165000e+08\n",
       "16     9.794000e+08\n",
       "17     1.030000e+09\n",
       "18     1.084000e+09\n",
       "19     1.136000e+09\n",
       "20     1.187000e+09\n",
       "21     1.240000e+09\n",
       "22     1.300000e+09\n",
       "23     1.366000e+09\n",
       "24     1.448000e+09\n",
       "25     1.554000e+09\n",
       "26     1.659000e+09\n",
       "27     1.739000e+09\n",
       "28     1.819000e+09\n",
       "29     1.894000e+09\n",
       "           ...     \n",
       "110    9.163000e+10\n",
       "111    1.467000e+11\n",
       "112    1.996000e+11\n",
       "113    2.718000e+11\n",
       "114    3.871000e+11\n",
       "115    6.034000e+11\n",
       "116    9.337000e+11\n",
       "117    1.433000e+12\n",
       "118    2.182000e+12\n",
       "119    3.308000e+12\n",
       "120    4.102000e+12\n",
       "121    5.132000e+12\n",
       "122    6.596000e+12\n",
       "123    8.748000e+12\n",
       "124    1.233000e+13\n",
       "125    1.909000e+13\n",
       "126    2.729000e+13\n",
       "127    4.258000e+13\n",
       "128    5.893000e+13\n",
       "129    8.397000e+13\n",
       "130    1.206000e+14\n",
       "131    1.828000e+14\n",
       "132    2.794000e+14\n",
       "133    4.465000e+14\n",
       "134    6.910000e+14\n",
       "135    1.050000e+15\n",
       "136    1.547000e+15\n",
       "137    2.196000e+15\n",
       "138    2.929000e+15\n",
       "139    3.808000e+15\n",
       "Name: n_e, Length: 140, dtype: float64"
      ]
     },
     "execution_count": 42,
     "metadata": {},
     "output_type": "execute_result"
    }
   ],
   "source": [
    "ne"
   ]
  },
  {
   "cell_type": "code",
   "execution_count": null,
   "metadata": {},
   "outputs": [],
   "source": []
  }
 ],
 "metadata": {
  "anaconda-cloud": {},
  "kernelspec": {
   "display_name": "Python 3",
   "language": "python",
   "name": "python3"
  },
  "language_info": {
   "codemirror_mode": {
    "name": "ipython",
    "version": 3
   },
   "file_extension": ".py",
   "mimetype": "text/x-python",
   "name": "python",
   "nbconvert_exporter": "python",
   "pygments_lexer": "ipython3",
   "version": "3.7.4"
  },
  "toc": {
   "base_numbering": 1,
   "nav_menu": {},
   "number_sections": true,
   "sideBar": true,
   "skip_h1_title": false,
   "title_cell": "Table of Contents",
   "title_sidebar": "Contents",
   "toc_cell": false,
   "toc_position": {},
   "toc_section_display": true,
   "toc_window_display": false
  },
  "varInspector": {
   "cols": {
    "lenName": 16,
    "lenType": 16,
    "lenVar": 40
   },
   "kernels_config": {
    "python": {
     "delete_cmd_postfix": "",
     "delete_cmd_prefix": "del ",
     "library": "var_list.py",
     "varRefreshCmd": "print(var_dic_list())"
    },
    "r": {
     "delete_cmd_postfix": ") ",
     "delete_cmd_prefix": "rm(",
     "library": "var_list.r",
     "varRefreshCmd": "cat(var_dic_list()) "
    }
   },
   "types_to_exclude": [
    "module",
    "function",
    "builtin_function_or_method",
    "instance",
    "_Feature"
   ],
   "window_display": false
  }
 },
 "nbformat": 4,
 "nbformat_minor": 2
}
