{
 "cells": [
  {
   "cell_type": "markdown",
   "metadata": {},
   "source": [
    "# Maximum Likelihood & Gradient Descent\n",
    "\n",
    "## Intro to Maximum Likelihood\n",
    "The method of Maximum Likelihood Estimation (MLE) is a technique for determining estimates for model parameters from data.\n",
    "\n",
    "Typically, you choose some model with parameters, $\\theta_j$, that you believe explains your data. MLE is then used to find the parameter values that maximise the likelihood that the process described by the model generates the data that was actually observed.\n",
    "\n",
    "This may sound a little abstract, but we will demonstrate how this works with a simple case.\n",
    "\n",
    "A gradient descent example"
   ]
  },
  {
   "cell_type": "code",
   "execution_count": 57,
   "metadata": {},
   "outputs": [],
   "source": [
    "import numpy as np\n",
    "import matplotlib.pyplot as plt\n",
    "import seaborn\n",
    "\n",
    "from IPython.display import Latex"
   ]
  },
  {
   "cell_type": "code",
   "execution_count": 6,
   "metadata": {},
   "outputs": [
    {
     "data": {
      "text/plain": [
       "[<matplotlib.lines.Line2D at 0x1135d3c50>]"
      ]
     },
     "execution_count": 6,
     "metadata": {},
     "output_type": "execute_result"
    },
    {
     "data": {
      "image/png": "[encoded data removed]",
      "text/plain": [
       "<matplotlib.figure.Figure at 0x11360b9b0>"
      ]
     },
     "metadata": {},
     "output_type": "display_data"
    }
   ],
   "source": [
    "#Create straight line with errors - intercept through zero\n",
    "n=20\n",
    "x=np.arange(0,n,1)\n",
    "rand=np.random.RandomState(1)\n",
    "y=2.*x+rand.normal(scale=3.,size=n)\n",
    "plt.plot(x,y,'o')\n",
    "plt.xlabel('x')\n",
    "plt.ylabel('y')"
   ]
  },
  {
   "cell_type": "markdown",
   "metadata": {},
   "source": [
    "We have taken the data above, making a measurement $y$ and each point $x$. Our inclination (maybe informed by our theoretical understanding of the physics) suggests the data should obey a straight line. However, when we make measurements their is always some source of noise that will influence our measurements and add uncertaintity. In this case, we assume that the noise in our experiment follows a Gaussian (Normally) distribution. \n",
    "\n",
    "As a reminder, the Normal distribution is given by:\n",
    "$$\n",
    "P(x:\\mu,\\sigma)=\\frac{1}{\\sigma\\sqrt{2\\pi}}\\exp\\left\\{-\\frac{(x-\\mu)^2}{2\\sigma^2} \\right\\}\n",
    "$$\n",
    "\n",
    "So, we want to describe our data with a model, hence we need to determine the parameters of a straight line model, $y=\\theta_0+\\theta_1x$. The question is, how to we find line of best fit to the data?\n",
    "\n",
    "The way forward to is to frame the question in terms of probability. \n",
    "\n",
    "First, we believe the data is $x$ from a straight line where the errors on $y$ values are Normally distributed. Hence, assuming we know the parameter values for the model, then we expect the errors on the y-values will be generated from the Normal distribution with probability $P$.\n",
    "\n",
    "However, we don't know the parameter values. So, we need to find the best estimates for the parameters values such that the observed $y$'s, $y_{obs}$, minus the predicted $y$'s from the model, $y_{mod}$, provide us with residuals that are normally distributed.\n",
    "\n",
    "$$\n",
    "\\mathcal{L}=\\prod_{i=1}^n \\frac{1}{\\sqrt{2\\pi}\\sigma}exp\\left\\{-\\frac{(y_{obs,i}-y_{mod})^2}{2\\sigma^2} \\right\\}\n",
    "$$\n",
    "Typically we use the log-likelihood (due to multiplication of potentially small probabilities), which leaves us with\n",
    "$$\n",
    "-2 ln \\mathcal{L}=\\frac{(y_{obs,i}-y_{mod})^2}{\\sigma^2}=\\chi^2\n",
    "$$\n",
    "\n",
    ".\n",
    ".\n",
    ".\n",
    ".\n",
    "Hence we want to minimise $\\chi^2$"
   ]
  },
  {
   "cell_type": "code",
   "execution_count": 33,
   "metadata": {},
   "outputs": [
    {
     "data": {
      "text/plain": [
       "Text(0,0.5,'$\\\\chi^2$')"
      ]
     },
     "execution_count": 33,
     "metadata": {},
     "output_type": "execute_result"
    },
    {
     "data": {
      "image/png": "[encoded data removed]",
      "text/plain": [
       "<matplotlib.figure.Figure at 0x116882940>"
      ]
     },
     "metadata": {},
     "output_type": "display_data"
    }
   ],
   "source": [
    "def calc_chisq(yobs,x,param):\n",
    "    ymod=param[0]+x*param[1]\n",
    "    chi_sq=(ymod-yobs)**2\n",
    "    return chi_sq.sum()\n",
    "\n",
    "grid_range=[-10,10]\n",
    "step=0.1\n",
    "ngrid=np.arange(grid_range[0],grid_range[1],step)\n",
    "chisq_grad=np.zeros( len(ngrid))\n",
    "\n",
    "j=0\n",
    "for ii in ngrid:\n",
    " \n",
    "    param=np.array([0.,ii])\n",
    "    chisq_grad[j]=calc_chisq(y,x,param)\n",
    "    j+=1\n",
    "    \n",
    "plt.plot(ngrid,chisq_grad)\n",
    "plt.xlabel(\"Gradient\")\n",
    "plt.ylabel(\"$\\chi^2$\")"
   ]
  },
  {
   "cell_type": "markdown",
   "metadata": {},
   "source": [
    "$$\n",
    "\\theta_j:=\\theta_j-\\alpha\\frac{d \\chi^2 }{d\\theta_j}\n",
    "$$"
   ]
  },
  {
   "cell_type": "code",
   "execution_count": 31,
   "metadata": {},
   "outputs": [
    {
     "name": "stdout",
     "output_type": "stream",
     "text": [
      "Iterations taken 17\n"
     ]
    }
   ],
   "source": [
    "# Gradient descent function\n",
    "def grad_desc(yobs,x,start,**kwargs):\n",
    "    alpha = kwargs.pop('alpha', 1e-4)\n",
    "    tol=kwargs.pop('tol',1e-3)\n",
    "    iter_max=kwargs.pop('iter_max',1000)\n",
    "    \n",
    "    new_val=np.zeros(iter_max)\n",
    "    new_val[0]=start\n",
    "    old_val=start+10\n",
    "    iter=0\n",
    "    while np.abs(old_val - new_val[iter]) > tol:\n",
    "        old_val=new_val[iter]\n",
    "        diff=-alpha*2.*(x*old_val-yobs)*x\n",
    "        new_val[iter+1]=old_val+diff.sum()\n",
    "        iter+=1\n",
    "        if iter ==iter_max:\n",
    "            break\n",
    "            \n",
    "    print(\"Iterations taken\",iter)    \n",
    "    return new_val[:iter]\n",
    "    \n",
    "vals=grad_desc(y,x,-7,tol=1e-4)"
   ]
  },
  {
   "cell_type": "code",
   "execution_count": 32,
   "metadata": {},
   "outputs": [
    {
     "name": "stdout",
     "output_type": "stream",
     "text": [
      "[-7.         -2.57251693 -0.3322105   0.80138456  1.37498365  1.6652248\n",
      "  1.81208681  1.886399    1.92400096  1.94302755  1.95265501  1.9575265\n",
      "  1.95999148  1.96123876  1.96186988  1.96218923  1.96235082]\n"
     ]
    }
   ],
   "source": [
    "print(vals)"
   ]
  },
  {
   "cell_type": "code",
   "execution_count": 37,
   "metadata": {},
   "outputs": [
    {
     "data": {
      "text/plain": [
       "[<matplotlib.lines.Line2D at 0x11c674710>]"
      ]
     },
     "execution_count": 37,
     "metadata": {},
     "output_type": "execute_result"
    },
    {
     "data": {
      "image/png": "[encoded data removed]",
      "text/plain": [
       "<matplotlib.figure.Figure at 0x11042dfd0>"
      ]
     },
     "metadata": {},
     "output_type": "display_data"
    }
   ],
   "source": [
    "chisq_vals_GD=np.zeros(len(vals))\n",
    "for ii in np.arange(0,len(vals),1):\n",
    "    chisq_vals_GD[ii]=calc_chisq(y,x,[0,vals[ii]])\n",
    "\n",
    "plt.plot(ngrid,chisq_grad)\n",
    "plt.xlabel(\"Gradient\")\n",
    "plt.ylabel(\"$\\chi^2$\")\n",
    "plt.plot(vals,chisq_vals_GD,'o')"
   ]
  },
  {
   "cell_type": "code",
   "execution_count": null,
   "metadata": {},
   "outputs": [],
   "source": []
  }
 ],
 "metadata": {
  "anaconda-cloud": {},
  "kernelspec": {
   "display_name": "Python [conda env:anaconda]",
   "language": "python",
   "name": "conda-env-anaconda-py"
  },
  "language_info": {
   "codemirror_mode": {
    "name": "ipython",
    "version": 3
   },
   "file_extension": ".py",
   "mimetype": "text/x-python",
   "name": "python",
   "nbconvert_exporter": "python",
   "pygments_lexer": "ipython3",
   "version": "3.5.4"
  }
 },
 "nbformat": 4,
 "nbformat_minor": 2
}
